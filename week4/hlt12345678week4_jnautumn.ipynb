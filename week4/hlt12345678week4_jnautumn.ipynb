{
  "nbformat": 4,
  "nbformat_minor": 0,
  "metadata": {
    "colab": {
      "name": "Untitled3.ipynb",
      "provenance": []
    },
    "kernelspec": {
      "name": "python3",
      "display_name": "Python 3"
    },
    "language_info": {
      "name": "python"
    }
  },
  "cells": [
    {
      "cell_type": "code",
      "metadata": {
        "colab": {
          "base_uri": "https://localhost:8080/"
        },
        "id": "ubEh0joZ4IIp",
        "outputId": "6e424a85-5dc0-4d5b-b23f-ef9dbd9223d5"
      },
      "source": [
        "#HLT W4,1:\n",
        "import pandas as pd\n",
        "count = pd.read_csv(\"travel.csv\")\n",
        "count.shape\n"
      ],
      "execution_count": 1,
      "outputs": [
        {
          "output_type": "execute_result",
          "data": {
            "text/plain": [
              "(15, 5)"
            ]
          },
          "metadata": {
            "tags": []
          },
          "execution_count": 1
        }
      ]
    },
    {
      "cell_type": "code",
      "metadata": {
        "colab": {
          "base_uri": "https://localhost:8080/"
        },
        "id": "QDFFlyAC43nL",
        "outputId": "616553f9-d0b9-40cb-cbbe-a310eb6ffe19"
      },
      "source": [
        "#HLT W4,2:\n",
        "import pandas as pd\n",
        "rows = pd.read_csv(\"travel.csv\")\n",
        "print(rows.iloc[3:9])"
      ],
      "execution_count": 3,
      "outputs": [
        {
          "output_type": "stream",
          "text": [
            "  Destination  Feedback  Average_Star  AIH Most_Visited\n",
            "3    Portugal         5             3   11        Porto\n",
            "4     Hungary         5             2   12     Budapest\n",
            "5       Italy         3             2    9         Rome\n",
            "6    Thailand         7             2   11      Bangkok\n",
            "7     Germany         8             3   17       Berlin\n",
            "8       Spain         5             3   16    Barcelona\n"
          ],
          "name": "stdout"
        }
      ]
    },
    {
      "cell_type": "code",
      "metadata": {
        "colab": {
          "base_uri": "https://localhost:8080/"
        },
        "id": "MMkwe8Uk5UnQ",
        "outputId": "94ccf2bd-33be-4ae8-911c-9c9fd00f1872"
      },
      "source": [
        "#HLT W4,3:\n",
        "import pandas as pd\n",
        "mean = pd.read_csv(\"travel.csv\")\n",
        "mean[\"AIH\"].mean()"
      ],
      "execution_count": 6,
      "outputs": [
        {
          "output_type": "execute_result",
          "data": {
            "text/plain": [
              "14.8"
            ]
          },
          "metadata": {
            "tags": []
          },
          "execution_count": 6
        }
      ]
    },
    {
      "cell_type": "code",
      "metadata": {
        "colab": {
          "base_uri": "https://localhost:8080/"
        },
        "id": "L54cBkHF7hIq",
        "outputId": "152a4de0-d17c-458a-d8d9-d0ea4b9ff817"
      },
      "source": [
        "#HLT W4,4:\n",
        "import pandas as pd\n",
        "lowest = pd.read_csv(\"travel.csv\")\n",
        "lowest[\"Feedback\"].idxmin() # = Index 9\n",
        "lowest.iloc[9]"
      ],
      "execution_count": 9,
      "outputs": [
        {
          "output_type": "execute_result",
          "data": {
            "text/plain": [
              "Destination       Morocco\n",
              "Feedback                1\n",
              "Average_Star            3\n",
              "AIH                     5\n",
              "Most_Visited    Marrakesh\n",
              "Name: 9, dtype: object"
            ]
          },
          "metadata": {
            "tags": []
          },
          "execution_count": 9
        }
      ]
    },
    {
      "cell_type": "code",
      "metadata": {
        "colab": {
          "base_uri": "https://localhost:8080/"
        },
        "id": "9qiiChm9-ZHb",
        "outputId": "7bd687b4-3ff1-4a4b-a606-9c35af6f4c3e"
      },
      "source": [
        "#HLT W4,5:\n",
        "import pandas as pd\n",
        "highest = pd.read_csv(\"travel.csv\")\n",
        "highest[\"Feedback\"].idxmax() # = Index 11\n",
        "highest.iloc[11]"
      ],
      "execution_count": 11,
      "outputs": [
        {
          "output_type": "execute_result",
          "data": {
            "text/plain": [
              "Destination          USA\n",
              "Feedback              10\n",
              "Average_Star           4\n",
              "AIH                   25\n",
              "Most_Visited    New York\n",
              "Name: 11, dtype: object"
            ]
          },
          "metadata": {
            "tags": []
          },
          "execution_count": 11
        }
      ]
    },
    {
      "cell_type": "code",
      "metadata": {
        "colab": {
          "base_uri": "https://localhost:8080/",
          "height": 394
        },
        "id": "dVJ06exW-1BU",
        "outputId": "ed1ec071-bc7f-48f6-cfe8-867a942597da"
      },
      "source": [
        "#HLT W4,6:\n",
        "import pandas as pd\n",
        "hotels = pd.read_csv(\"travel.csv\")\n",
        "hotels[(hotels.AIH > 9)]"
      ],
      "execution_count": 23,
      "outputs": [
        {
          "output_type": "execute_result",
          "data": {
            "text/html": [
              "<div>\n",
              "<style scoped>\n",
              "    .dataframe tbody tr th:only-of-type {\n",
              "        vertical-align: middle;\n",
              "    }\n",
              "\n",
              "    .dataframe tbody tr th {\n",
              "        vertical-align: top;\n",
              "    }\n",
              "\n",
              "    .dataframe thead th {\n",
              "        text-align: right;\n",
              "    }\n",
              "</style>\n",
              "<table border=\"1\" class=\"dataframe\">\n",
              "  <thead>\n",
              "    <tr style=\"text-align: right;\">\n",
              "      <th></th>\n",
              "      <th>Destination</th>\n",
              "      <th>Feedback</th>\n",
              "      <th>Average_Star</th>\n",
              "      <th>AIH</th>\n",
              "      <th>Most_Visited</th>\n",
              "    </tr>\n",
              "  </thead>\n",
              "  <tbody>\n",
              "    <tr>\n",
              "      <th>0</th>\n",
              "      <td>UAE</td>\n",
              "      <td>8</td>\n",
              "      <td>3</td>\n",
              "      <td>20</td>\n",
              "      <td>Dubai</td>\n",
              "    </tr>\n",
              "    <tr>\n",
              "      <th>1</th>\n",
              "      <td>Canada</td>\n",
              "      <td>9</td>\n",
              "      <td>4</td>\n",
              "      <td>22</td>\n",
              "      <td>Toronto</td>\n",
              "    </tr>\n",
              "    <tr>\n",
              "      <th>2</th>\n",
              "      <td>France</td>\n",
              "      <td>7</td>\n",
              "      <td>3</td>\n",
              "      <td>17</td>\n",
              "      <td>Paris</td>\n",
              "    </tr>\n",
              "    <tr>\n",
              "      <th>3</th>\n",
              "      <td>Portugal</td>\n",
              "      <td>5</td>\n",
              "      <td>3</td>\n",
              "      <td>11</td>\n",
              "      <td>Porto</td>\n",
              "    </tr>\n",
              "    <tr>\n",
              "      <th>4</th>\n",
              "      <td>Hungary</td>\n",
              "      <td>5</td>\n",
              "      <td>2</td>\n",
              "      <td>12</td>\n",
              "      <td>Budapest</td>\n",
              "    </tr>\n",
              "    <tr>\n",
              "      <th>6</th>\n",
              "      <td>Thailand</td>\n",
              "      <td>7</td>\n",
              "      <td>2</td>\n",
              "      <td>11</td>\n",
              "      <td>Bangkok</td>\n",
              "    </tr>\n",
              "    <tr>\n",
              "      <th>7</th>\n",
              "      <td>Germany</td>\n",
              "      <td>8</td>\n",
              "      <td>3</td>\n",
              "      <td>17</td>\n",
              "      <td>Berlin</td>\n",
              "    </tr>\n",
              "    <tr>\n",
              "      <th>8</th>\n",
              "      <td>Spain</td>\n",
              "      <td>5</td>\n",
              "      <td>3</td>\n",
              "      <td>16</td>\n",
              "      <td>Barcelona</td>\n",
              "    </tr>\n",
              "    <tr>\n",
              "      <th>10</th>\n",
              "      <td>Netherlands</td>\n",
              "      <td>9</td>\n",
              "      <td>4</td>\n",
              "      <td>22</td>\n",
              "      <td>Amsterdam</td>\n",
              "    </tr>\n",
              "    <tr>\n",
              "      <th>11</th>\n",
              "      <td>USA</td>\n",
              "      <td>10</td>\n",
              "      <td>4</td>\n",
              "      <td>25</td>\n",
              "      <td>New York</td>\n",
              "    </tr>\n",
              "    <tr>\n",
              "      <th>12</th>\n",
              "      <td>UK</td>\n",
              "      <td>7</td>\n",
              "      <td>3</td>\n",
              "      <td>21</td>\n",
              "      <td>London</td>\n",
              "    </tr>\n",
              "  </tbody>\n",
              "</table>\n",
              "</div>"
            ],
            "text/plain": [
              "    Destination  Feedback  Average_Star  AIH Most_Visited\n",
              "0           UAE         8             3   20        Dubai\n",
              "1        Canada         9             4   22      Toronto\n",
              "2        France         7             3   17        Paris\n",
              "3      Portugal         5             3   11        Porto\n",
              "4       Hungary         5             2   12     Budapest\n",
              "6      Thailand         7             2   11      Bangkok\n",
              "7       Germany         8             3   17       Berlin\n",
              "8         Spain         5             3   16    Barcelona\n",
              "10  Netherlands         9             4   22    Amsterdam\n",
              "11          USA        10             4   25     New York\n",
              "12           UK         7             3   21       London"
            ]
          },
          "metadata": {
            "tags": []
          },
          "execution_count": 23
        }
      ]
    },
    {
      "cell_type": "code",
      "metadata": {
        "colab": {
          "base_uri": "https://localhost:8080/",
          "height": 143
        },
        "id": "YaAzfYs_C8jt",
        "outputId": "9a8a5104-098e-4809-9084-a2ea8175396a"
      },
      "source": [
        "#HLT W4,7:\n",
        "import pandas as pd\n",
        "score = pd.read_csv(\"travel.csv\")\n",
        "score[score.Feedback > 8]"
      ],
      "execution_count": 31,
      "outputs": [
        {
          "output_type": "execute_result",
          "data": {
            "text/html": [
              "<div>\n",
              "<style scoped>\n",
              "    .dataframe tbody tr th:only-of-type {\n",
              "        vertical-align: middle;\n",
              "    }\n",
              "\n",
              "    .dataframe tbody tr th {\n",
              "        vertical-align: top;\n",
              "    }\n",
              "\n",
              "    .dataframe thead th {\n",
              "        text-align: right;\n",
              "    }\n",
              "</style>\n",
              "<table border=\"1\" class=\"dataframe\">\n",
              "  <thead>\n",
              "    <tr style=\"text-align: right;\">\n",
              "      <th></th>\n",
              "      <th>Destination</th>\n",
              "      <th>Feedback</th>\n",
              "      <th>Average_Star</th>\n",
              "      <th>AIH</th>\n",
              "      <th>Most_Visited</th>\n",
              "    </tr>\n",
              "  </thead>\n",
              "  <tbody>\n",
              "    <tr>\n",
              "      <th>1</th>\n",
              "      <td>Canada</td>\n",
              "      <td>9</td>\n",
              "      <td>4</td>\n",
              "      <td>22</td>\n",
              "      <td>Toronto</td>\n",
              "    </tr>\n",
              "    <tr>\n",
              "      <th>10</th>\n",
              "      <td>Netherlands</td>\n",
              "      <td>9</td>\n",
              "      <td>4</td>\n",
              "      <td>22</td>\n",
              "      <td>Amsterdam</td>\n",
              "    </tr>\n",
              "    <tr>\n",
              "      <th>11</th>\n",
              "      <td>USA</td>\n",
              "      <td>10</td>\n",
              "      <td>4</td>\n",
              "      <td>25</td>\n",
              "      <td>New York</td>\n",
              "    </tr>\n",
              "  </tbody>\n",
              "</table>\n",
              "</div>"
            ],
            "text/plain": [
              "    Destination  Feedback  Average_Star  AIH Most_Visited\n",
              "1        Canada         9             4   22      Toronto\n",
              "10  Netherlands         9             4   22    Amsterdam\n",
              "11          USA        10             4   25     New York"
            ]
          },
          "metadata": {
            "tags": []
          },
          "execution_count": 31
        }
      ]
    },
    {
      "cell_type": "code",
      "metadata": {
        "colab": {
          "base_uri": "https://localhost:8080/",
          "height": 112
        },
        "id": "Jx1xh10vDeAl",
        "outputId": "da03aba5-338f-4d73-93c3-59ef6ed86510"
      },
      "source": [
        "#HLT W4,8:\n",
        "import pandas as pd\n",
        "score = pd.read_csv(\"travel.csv\")\n",
        "score [score.Feedback < 2]"
      ],
      "execution_count": 30,
      "outputs": [
        {
          "output_type": "execute_result",
          "data": {
            "text/html": [
              "<div>\n",
              "<style scoped>\n",
              "    .dataframe tbody tr th:only-of-type {\n",
              "        vertical-align: middle;\n",
              "    }\n",
              "\n",
              "    .dataframe tbody tr th {\n",
              "        vertical-align: top;\n",
              "    }\n",
              "\n",
              "    .dataframe thead th {\n",
              "        text-align: right;\n",
              "    }\n",
              "</style>\n",
              "<table border=\"1\" class=\"dataframe\">\n",
              "  <thead>\n",
              "    <tr style=\"text-align: right;\">\n",
              "      <th></th>\n",
              "      <th>Destination</th>\n",
              "      <th>Feedback</th>\n",
              "      <th>Average_Star</th>\n",
              "      <th>AIH</th>\n",
              "      <th>Most_Visited</th>\n",
              "    </tr>\n",
              "  </thead>\n",
              "  <tbody>\n",
              "    <tr>\n",
              "      <th>9</th>\n",
              "      <td>Morocco</td>\n",
              "      <td>1</td>\n",
              "      <td>3</td>\n",
              "      <td>5</td>\n",
              "      <td>Marrakesh</td>\n",
              "    </tr>\n",
              "    <tr>\n",
              "      <th>14</th>\n",
              "      <td>Romania</td>\n",
              "      <td>1</td>\n",
              "      <td>1</td>\n",
              "      <td>5</td>\n",
              "      <td>Bucharest</td>\n",
              "    </tr>\n",
              "  </tbody>\n",
              "</table>\n",
              "</div>"
            ],
            "text/plain": [
              "   Destination  Feedback  Average_Star  AIH Most_Visited\n",
              "9      Morocco         1             3    5    Marrakesh\n",
              "14     Romania         1             1    5    Bucharest"
            ]
          },
          "metadata": {
            "tags": []
          },
          "execution_count": 30
        }
      ]
    }
  ]
}